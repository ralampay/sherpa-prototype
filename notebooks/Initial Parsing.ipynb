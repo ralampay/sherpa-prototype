{
 "cells": [
  {
   "cell_type": "code",
   "execution_count": null,
   "id": "257fc018",
   "metadata": {},
   "outputs": [],
   "source": [
    "import openai\n",
    "import os"
   ]
  },
  {
   "cell_type": "code",
   "execution_count": null,
   "id": "fcf4de5c",
   "metadata": {},
   "outputs": [],
   "source": [
    "OPENAI_API_KEY = os.getenv('OPENAI_API_KEY')\n",
    "\n",
    "openai.key = OPENAI_API_KEY"
   ]
  },
  {
   "cell_type": "code",
   "execution_count": null,
   "id": "05e078d2",
   "metadata": {},
   "outputs": [],
   "source": [
    "audio_to_text_model = \"whisper-1\"\n",
    "\n",
    "audio_file = open(\"audio/1.mp3\", \"rb\")\n",
    "transcript = openai.Audio.translate(audio_to_text_model, audio_file)\n",
    "\n",
    "raw_text = transcript[\"text\"]\n",
    "\n",
    "raw_text"
   ]
  },
  {
   "cell_type": "code",
   "execution_count": null,
   "id": "88bbd6c6",
   "metadata": {},
   "outputs": [],
   "source": [
    "sentence_tokens = "
   ]
  }
 ],
 "metadata": {
  "kernelspec": {
   "display_name": "Python 3 (ipykernel)",
   "language": "python",
   "name": "python3"
  },
  "language_info": {
   "codemirror_mode": {
    "name": "ipython",
    "version": 3
   },
   "file_extension": ".py",
   "mimetype": "text/x-python",
   "name": "python",
   "nbconvert_exporter": "python",
   "pygments_lexer": "ipython3",
   "version": "3.10.11"
  }
 },
 "nbformat": 4,
 "nbformat_minor": 5
}
