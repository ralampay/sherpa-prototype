{
  "nbformat": 4,
  "nbformat_minor": 0,
  "metadata": {
    "colab": {
      "provenance": [],
      "gpuType": "T4"
    },
    "kernelspec": {
      "name": "python3",
      "display_name": "Python 3"
    },
    "language_info": {
      "name": "python"
    },
    "accelerator": "GPU"
  },
  "cells": [
    {
      "cell_type": "markdown",
      "source": [
        "This notebook tests various LLMs in upselling classification.\n",
        "\n",
        "Notes:\n",
        "- I did not use a diarized transcript, but I suspect using one would be better.\n",
        "\n",
        "To-do:\n",
        "- Add more model results\n",
        "- Test with diarized transcript\n",
        "- Test on upsizing and customer loyalty classification?\n",
        "- Double-check model licenses"
      ],
      "metadata": {
        "id": "ufBjHAxqSXGD"
      }
    },
    {
      "cell_type": "markdown",
      "source": [
        "## Set-up"
      ],
      "metadata": {
        "id": "gRUYwMlZQlGO"
      }
    },
    {
      "cell_type": "markdown",
      "source": [
        "Installs were not added to `requirements.txt` as I ran this notebook in Google Colab did not check for conflicts with repo dependencies."
      ],
      "metadata": {
        "id": "YKk5_LMDSFOT"
      }
    },
    {
      "cell_type": "code",
      "execution_count": null,
      "metadata": {
        "id": "c8tB2Etvu6wL"
      },
      "outputs": [],
      "source": [
        "# !pip install transformers accelerate einops"
      ]
    },
    {
      "cell_type": "code",
      "source": [
        "from huggingface_hub import notebook_login\n",
        "\n",
        "notebook_login()"
      ],
      "metadata": {
        "id": "mGyay5OevzfD"
      },
      "execution_count": null,
      "outputs": []
    },
    {
      "cell_type": "markdown",
      "source": [
        "## Llama-2"
      ],
      "metadata": {
        "id": "0Q72EOoAQr3Z"
      }
    },
    {
      "cell_type": "code",
      "source": [
        "from transformers import AutoTokenizer\n",
        "import transformers\n",
        "import torch\n",
        "\n",
        "model = \"meta-llama/Llama-2-7b-chat-hf\"\n",
        "\n",
        "tokenizer = AutoTokenizer.from_pretrained(model)\n",
        "pipeline = transformers.pipeline(\n",
        "    \"text-generation\",\n",
        "    model=model,\n",
        "    torch_dtype=torch.float16,\n",
        "    device_map=\"auto\",\n",
        ")"
      ],
      "metadata": {
        "id": "GB2nUV5Z8ClC"
      },
      "execution_count": null,
      "outputs": []
    },
    {
      "cell_type": "code",
      "source": [
        "prompt = '''Thank you for choosing to be here. How can I help you? I'm going to do a turtle, peacock, cluster, blizzard. What size? What sizes do you have? Mini, small, medium, and large. Medium. Okay, can I get you anything else? This is for you. The ultimate color brownie. Medium as well? Medium as well. That'll be it. I think that's going to be 15 cent out the window. Thank you. Thank you.\n",
        "\n",
        "Did upselling happen in this conversation?\n",
        "'''\n",
        "\n",
        "torch.manual_seed(42)\n",
        "sequences = pipeline(\n",
        "    prompt,\n",
        "    do_sample=True,\n",
        "    top_k=10,\n",
        "    num_return_sequences=1,\n",
        "    eos_token_id=tokenizer.eos_token_id,\n",
        "    max_length=200,\n",
        "    return_full_text=False\n",
        ")"
      ],
      "metadata": {
        "id": "_w1MrIQeBclu"
      },
      "execution_count": null,
      "outputs": []
    },
    {
      "cell_type": "code",
      "source": [
        "for seq in sequences:\n",
        "  print(seq['generated_text'])"
      ],
      "metadata": {
        "id": "h9-1YSm4GzU6"
      },
      "execution_count": null,
      "outputs": []
    },
    {
      "cell_type": "markdown",
      "source": [
        "`Yes, upselling happened in this conversation. The cashier suggested larger sizes of the products (clusters, blizzards) and offered a more expensive option (the ultimate color brownie) even though the customer only asked for a medium-sized item.`"
      ],
      "metadata": {
        "id": "XzvCAiINQ1Se"
      }
    },
    {
      "cell_type": "markdown",
      "source": [
        "## Falcon"
      ],
      "metadata": {
        "id": "ntI4VLdKQvaV"
      }
    },
    {
      "cell_type": "code",
      "source": [
        "from transformers import AutoTokenizer\n",
        "import transformers\n",
        "import torch\n",
        "\n",
        "model = \"tiiuae/falcon-7b-instruct\"\n",
        "\n",
        "tokenizer = AutoTokenizer.from_pretrained(model)\n",
        "pipeline = transformers.pipeline(\n",
        "  \"text-generation\",\n",
        "  model=model,\n",
        "  tokenizer=tokenizer,\n",
        "  torch_dtype=torch.bfloat16,\n",
        "  trust_remote_code=True,\n",
        "  device_map=\"auto\",\n",
        ")"
      ],
      "metadata": {
        "id": "XKbuEdfGH8Jm"
      },
      "execution_count": null,
      "outputs": []
    },
    {
      "cell_type": "code",
      "source": [
        "prompt = '''Thank you for choosing to be here. How can I help you? I'm going to do a turtle, peacock, cluster, blizzard. What size? What sizes do you have? Mini, small, medium, and large. Medium. Okay, can I get you anything else? This is for you. The ultimate color brownie. Medium as well? Medium as well. That'll be it. I think that's going to be 15 cent out the window. Thank you. Thank you.\n",
        "\n",
        "Did upselling happen in this conversation?\n",
        "'''\n",
        "\n",
        "torch.manual_seed(42)\n",
        "sequences = pipeline(\n",
        "  prompt,\n",
        "  do_sample=True,\n",
        "  top_k=10,\n",
        "  num_return_sequences=1,\n",
        "  eos_token_id=tokenizer.eos_token_id,\n",
        "  max_length=200,\n",
        "  return_full_text=False\n",
        ")"
      ],
      "metadata": {
        "id": "QukZt9KSH9iy"
      },
      "execution_count": null,
      "outputs": []
    },
    {
      "cell_type": "code",
      "source": [
        "for seq in sequences:\n",
        "  print(seq['generated_text'])"
      ],
      "metadata": {
        "id": "nMkrF94BIYuu"
      },
      "execution_count": null,
      "outputs": []
    },
    {
      "cell_type": "markdown",
      "source": [
        "`Yes, it appears that upselling occurred with the offer of additional items and packages for the customer to purchase during the initial offer.`"
      ],
      "metadata": {
        "id": "lcBsyL-ZQ5go"
      }
    }
  ]
}